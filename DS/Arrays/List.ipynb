{
 "cells": [
  {
   "cell_type": "code",
   "execution_count": 8,
   "metadata": {},
   "outputs": [
    {
     "data": {
      "text/plain": [
       "'\\n    In python array like structuers are represented as list.They can have all kind of data meeaning that they are haterogenous.\\n    \\n'"
      ]
     },
     "execution_count": 8,
     "metadata": {},
     "output_type": "execute_result"
    }
   ],
   "source": [
    "#Lists\n",
    "\"\"\"\n",
    "    In python array like structuers are represented as list.They can have all kind of data meeaning that they are haterogenous.\n",
    "    \n",
    "\"\"\""
   ]
  },
  {
   "cell_type": "code",
   "execution_count": 13,
   "metadata": {},
   "outputs": [],
   "source": [
    "#defining a data\n",
    "L=[1,2,\"a\",\"b\"]"
   ]
  },
  {
   "cell_type": "code",
   "execution_count": 11,
   "metadata": {},
   "outputs": [
    {
     "name": "stdout",
     "output_type": "stream",
     "text": [
      "2\n"
     ]
    }
   ],
   "source": [
    "#accessing data from list\n",
    "print(L[1])"
   ]
  },
  {
   "cell_type": "code",
   "execution_count": 17,
   "metadata": {},
   "outputs": [
    {
     "data": {
      "text/plain": [
       "[1, 0]"
      ]
     },
     "execution_count": 17,
     "metadata": {},
     "output_type": "execute_result"
    }
   ],
   "source": [
    "\"\"\"\n",
    "1. Two Sum\n",
    "\n",
    "    First i initilize empty dictinaory\n",
    "    \n",
    "    then i loop through enumerate list\n",
    "        basically what enumerate list does is it creates tupes of indexes and values\n",
    "        so every time that i loop thorugh the list i can get the index of that value very easily\n",
    "    \n",
    "    after that simple logic target -value is result\n",
    "    \n",
    "    if result is in dictionary i retun the index and the result's index from dictionary\n",
    "    \n",
    "    if result not in  dictionary\n",
    "    that value will be added as index and index will be added as value\n",
    "    \n",
    "    \n",
    "    paxi yo herda garo lagna sakxa but it fairly easy\n",
    "\"\"\"\n",
    "    \n",
    "\n",
    "\n",
    "\n",
    "from typing import List\n",
    "\n",
    "\n",
    "def twosum(nums:List[int],target:int)->List[int]:\n",
    "    dict={}\n",
    "    for i,v in enumerate(nums):\n",
    "        result=target-v\n",
    "        if result in dict:\n",
    "            return [i,dict[result]]\n",
    "        dict[v]=i\n",
    "    \n",
    "nums = [2,7,11,15]\n",
    "target = 9\n",
    "twosum(nums,target)\n",
    "        "
   ]
  },
  {
   "cell_type": "code",
   "execution_count": null,
   "metadata": {},
   "outputs": [],
   "source": [
    "\"\"\"\n",
    "2239. Find Closest Number to Zero\n",
    "\n",
    "    i first choose first index of the list to be the closest\n",
    "    the i did a transversal loop throught the list\n",
    "    then i cheked if absolute value of i is less than absolute value of closest then \n",
    "    new closest value is i\n",
    "    after exiting the loop\n",
    "    if the closest value is less that 0 and positive value of that number exists then we will pass the positive value \n",
    "    else we will pass the closest only\n",
    "\n",
    "\"\"\"\n",
    "class Solution:\n",
    "    def findClosestNumber(self, nums: List[int]) -> int:\n",
    "        closest=nums[0]\n",
    "        for i in nums:\n",
    "            if abs(i)<abs(closest):\n",
    "                closest=i\n",
    "        if closest <0 and abs(closest) in nums:\n",
    "            return abs(closest)\n",
    "        else:\n",
    "           return  closest"
   ]
  }
 ],
 "metadata": {
  "kernelspec": {
   "display_name": "Python 3",
   "language": "python",
   "name": "python3"
  },
  "language_info": {
   "codemirror_mode": {
    "name": "ipython",
    "version": 3
   },
   "file_extension": ".py",
   "mimetype": "text/x-python",
   "name": "python",
   "nbconvert_exporter": "python",
   "pygments_lexer": "ipython3",
   "version": "3.13.0"
  }
 },
 "nbformat": 4,
 "nbformat_minor": 2
}
